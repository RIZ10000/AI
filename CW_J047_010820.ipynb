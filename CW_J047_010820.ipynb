{
  "nbformat": 4,
  "nbformat_minor": 0,
  "metadata": {
    "colab": {
      "name": "CW_J047_010820.ipynb",
      "provenance": [],
      "authorship_tag": "ABX9TyM11QUkpMkvyRGJtUPEXQYL",
      "include_colab_link": true
    },
    "kernelspec": {
      "name": "python3",
      "display_name": "Python 3"
    }
  },
  "cells": [
    {
      "cell_type": "markdown",
      "metadata": {
        "id": "view-in-github",
        "colab_type": "text"
      },
      "source": [
        "<a href=\"https://colab.research.google.com/github/RIZ10000/AI/blob/master/CW_J047_010820.ipynb\" target=\"_parent\"><img src=\"https://colab.research.google.com/assets/colab-badge.svg\" alt=\"Open In Colab\"/></a>"
      ]
    },
    {
      "cell_type": "markdown",
      "metadata": {
        "id": "gn2KdVr5CB0o",
        "colab_type": "text"
      },
      "source": [
        "# Recursion - Function Calling itself during execution\n",
        "1+2+3+4 \\n\n",
        "1+2=3 # Sum(1,2) \\n\n",
        "3+3=6 # Sum(Sum(1,2),3) \\n\n",
        "6+4=10 # Sum(Sum(Sum(1,2),3),4) \\n\n",
        "\n",
        "# Memoisation ~ Memorandum(Latin) (To be remembered)\n",
        "Storing intermediate values, through various ways\n",
        "\n",
        "\n"
      ]
    },
    {
      "cell_type": "code",
      "metadata": {
        "id": "6KqJcr81_dP8",
        "colab_type": "code",
        "colab": {}
      },
      "source": [
        "# Calculating 7!\n",
        "#\n",
        "def factorial_recursion(n):\n",
        "    factor=1\n",
        "    if (n==0):\n",
        "        return factor\n",
        "    else:\n",
        "        return n*factorial_recursion(n-1)\n",
        "\n",
        "def factorial_simpl(n):\n",
        "    factor=1\n",
        "    for i in range(1,n+1):\n",
        "        factor=factor*i\n",
        "    return factor\n",
        "\n"
      ],
      "execution_count": null,
      "outputs": []
    },
    {
      "cell_type": "code",
      "metadata": {
        "id": "7EOmy7T3GlJf",
        "colab_type": "code",
        "colab": {}
      },
      "source": [
        "factorial_recursion(5)"
      ],
      "execution_count": null,
      "outputs": []
    },
    {
      "cell_type": "code",
      "metadata": {
        "id": "jrsWs-gaH8D5",
        "colab_type": "code",
        "colab": {}
      },
      "source": [
        "factorial_simpl(5)"
      ],
      "execution_count": null,
      "outputs": []
    },
    {
      "cell_type": "code",
      "metadata": {
        "id": "sBw1aozOIEP9",
        "colab_type": "code",
        "colab": {}
      },
      "source": [
        "# Fibonacci\n",
        "#0112358\n",
        "# Property\n",
        "# Base Case - sum(0,1)\n",
        "# nth number is sum of previous two numbers num(n)=sum(num(n-1),num(n-2))\n",
        "\n",
        "def fibo_simpl(n):\n",
        "    #Function to calculate nth Fibonacci Number\n",
        "    fibo=[]\n",
        "    #count=0\n",
        "    fibo[0],fibo[1]=0,1\n",
        "    for i in range(2,n+1):\n",
        "        fibo[i]=fibo[i-1]+fibo[i-2]\n",
        "    return fibo[n]\n",
        "\n",
        "\n",
        "\n",
        "    # if n==1:\n",
        "    #     print(0)\n",
        "    # elif n==2:\n",
        "    #     print(1)\n",
        "    # else :\n",
        "    #    while count <n:\n",
        "    #        print(fibo[0]) \n",
        "    #        n1=fibo[0]+fibo[1]\n",
        "    #        fibo[0]=fibo[1]\n",
        "    #        fibo[1]=n1\n",
        "    #        count=count+1\n",
        "       # for num in range (2,n):\n",
        "       #     return fibo(n-1)+fibo(n-2)\n"
      ],
      "execution_count": null,
      "outputs": []
    },
    {
      "cell_type": "code",
      "metadata": {
        "id": "RpBCvw6cQ8VD",
        "colab_type": "code",
        "colab": {}
      },
      "source": [
        "def fibo_1(n):\n",
        "    # n: whole number \n",
        "    # returns the n+1th number\n",
        "    if n==0 or n==1:\n",
        "        return n \n",
        "    else : \n",
        "        return fibo_1(n-1)+fibo_1(n-2)"
      ],
      "execution_count": null,
      "outputs": []
    },
    {
      "cell_type": "code",
      "metadata": {
        "id": "ZSlpvd4gU0D6",
        "colab_type": "code",
        "colab": {}
      },
      "source": [
        "#Binary Search\n",
        "list =[5,3,2,1,5,6,7,123,97,65,34,22,344,2245,122,45]\n",
        "\n",
        "\"\"\"\n",
        "Searching an element in a list\n",
        "\"\"\""
      ],
      "execution_count": null,
      "outputs": []
    },
    {
      "cell_type": "code",
      "metadata": {
        "id": "495S3Ya-XBeN",
        "colab_type": "code",
        "colab": {}
      },
      "source": [
        "# Sum of n numbers\n"
      ],
      "execution_count": null,
      "outputs": []
    },
    {
      "cell_type": "markdown",
      "metadata": {
        "id": "G2Zf2qrnXI-2",
        "colab_type": "text"
      },
      "source": [
        "Tractable - PTIME (Polynomial Time Solvable)Solution is in Polynomial Time\n",
        "Polynomial - expression where each term is n^k where k can be any whole number\n",
        "Degree of the polynomial highest power of the variable within the expression \n",
        "\n",
        "Polynomial Time - Runtime of the code or solution should be a polynomial of degree k where k is a constant, and since it is time n cannot be negative\n",
        "n: input space or dimension \n",
        "eg O(n^4) - 3*n^4+2*n^2+1\n",
        "n=1 => 1\n",
        "n=2 => 2^4\n",
        "n=3 => 3^4\n",
        "n=4 => 4^4 ...\n",
        "\n",
        "O(n!)\n",
        "n*n-1*n-2*...1 -> Polynomial of Degree n-1 - Non Polynomial Time (NP)\n"
      ]
    },
    {
      "cell_type": "code",
      "metadata": {
        "id": "XgMfiB7QV6K4",
        "colab_type": "code",
        "colab": {}
      },
      "source": [
        "list1=list.copy().sort()"
      ],
      "execution_count": null,
      "outputs": []
    },
    {
      "cell_type": "code",
      "metadata": {
        "id": "OcQoc9cTWSba",
        "colab_type": "code",
        "colab": {}
      },
      "source": [
        "list"
      ],
      "execution_count": null,
      "outputs": []
    },
    {
      "cell_type": "code",
      "metadata": {
        "id": "qTuM_1akROzV",
        "colab_type": "code",
        "colab": {}
      },
      "source": [
        "fibo_1(7)"
      ],
      "execution_count": null,
      "outputs": []
    },
    {
      "cell_type": "code",
      "metadata": {
        "id": "greG7tvwRrQa",
        "colab_type": "code",
        "colab": {}
      },
      "source": [
        "#0112358"
      ],
      "execution_count": null,
      "outputs": []
    },
    {
      "cell_type": "code",
      "metadata": {
        "id": "Pt8Pyu6uQBhK",
        "colab_type": "code",
        "colab": {}
      },
      "source": [
        "fibo_simpl(5)"
      ],
      "execution_count": null,
      "outputs": []
    }
  ]
}