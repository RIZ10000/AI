{
  "nbformat": 4,
  "nbformat_minor": 0,
  "metadata": {
    "colab": {
      "name": "Untitled8.ipynb",
      "provenance": [],
      "authorship_tag": "ABX9TyMnsbuCL3NcKS385IAxow9K",
      "include_colab_link": true
    },
    "kernelspec": {
      "name": "python3",
      "display_name": "Python 3"
    }
  },
  "cells": [
    {
      "cell_type": "markdown",
      "metadata": {
        "id": "view-in-github",
        "colab_type": "text"
      },
      "source": [
        "<a href=\"https://colab.research.google.com/github/RIZ10000/AI/blob/master/HW/HW_J047_110720.ipynb\" target=\"_parent\"><img src=\"https://colab.research.google.com/assets/colab-badge.svg\" alt=\"Open In Colab\"/></a>"
      ]
    },
    {
      "cell_type": "code",
      "metadata": {
        "id": "unMoZklDAp0N",
        "colab_type": "code",
        "colab": {}
      },
      "source": [
        "# Create a custom class DataRead to read csv file using pandas\n",
        "# Create a custom function RowSelect within the class to select any 2 rows of the  dataframe\n",
        "# Create a sub class of DataRead1 as  DataRead2  that has function for correlation plots (using any lib for correlation plot)\n",
        "# Within DataRead2 also create a function to override the custom function of DataRead1 RowSelect to select 3 rows"
      ],
      "execution_count": null,
      "outputs": []
    },
    {
      "cell_type": "code",
      "metadata": {
        "id": "E5xuMD_0BwtL",
        "colab_type": "code",
        "colab": {
          "base_uri": "https://localhost:8080/",
          "height": 1000
        },
        "outputId": "373e5def-daef-4d9d-f7fd-0ea7bada8802"
      },
      "source": [
        "import pandas as pd\n",
        "import matplotlib.pyplot as plt\n",
        "import seaborn as sns\n",
        "\n",
        "# Create a custom class DataRead to read csv file using pandas\n",
        "class DataRead :\n",
        "  \n",
        "  def __init__ (self,path):\n",
        "    self.path = path\n",
        "\n",
        "  def readcsv (self):\n",
        "    self.a = pd.read_csv(self.path)\n",
        "    return self.a\n",
        "# Create a custom function RowSelect within the class to select any 2 rows of the the the dataframe\n",
        "# RowSelect can also be overloaded by giving n3=none as default argument\n",
        "  def RowSelect (self,n1,n2,a):\n",
        "    print(a.iloc[n1-1,:],a.iloc[n2-1,:],sep=\"\\n\\n\")\n",
        "\n",
        "# Create a sub class of DataRead1 as  DataRead2  that has function for correlation plots (using any lib for correlation plot)\n",
        "class DataRead2(DataRead):\n",
        "  \n",
        "  def corr_plt(self,a):\n",
        "    plot=a.corr()\n",
        "    sns.heatmap(plot,linewidths=0.5)\n",
        "    plt.show()\n",
        "\n",
        "# Within DataRead2 also create a function to override the custom function of DataRead1 RowSelect to select 3 rows  \n",
        "  def RowSelect (self,n1,n2,n3,a):\n",
        "    print(a.iloc[n1-1,:],a.iloc[n2-1,:],a.iloc[n3-1,:],sep=\"\\n\\n\")  \n",
        "\n",
        "\n",
        "train_path=\"/content/sample_data/california_housing_train.csv\"\n",
        "train=DataRead2(train_path)\n",
        "DataRead.RowSelect(train,2,16996,train.readcsv())    \n",
        "train.corr_plt(train.readcsv())\n",
        "train.RowSelect(2,5,16996,train.readcsv())\n"
      ],
      "execution_count": 1,
      "outputs": [
        {
          "output_type": "stream",
          "text": [
            "/usr/local/lib/python3.6/dist-packages/statsmodels/tools/_testing.py:19: FutureWarning: pandas.util.testing is deprecated. Use the functions in the public API at pandas.testing instead.\n",
            "  import pandas.util.testing as tm\n"
          ],
          "name": "stderr"
        },
        {
          "output_type": "stream",
          "text": [
            "longitude              -114.47\n",
            "latitude                 34.40\n",
            "housing_median_age       19.00\n",
            "total_rooms            7650.00\n",
            "total_bedrooms         1901.00\n",
            "population             1129.00\n",
            "households              463.00\n",
            "median_income             1.82\n",
            "median_house_value    80100.00\n",
            "Name: 1, dtype: float64\n",
            "\n",
            "longitude               -124.2600\n",
            "latitude                  40.5800\n",
            "housing_median_age        52.0000\n",
            "total_rooms             2217.0000\n",
            "total_bedrooms           394.0000\n",
            "population               907.0000\n",
            "households               369.0000\n",
            "median_income              2.3571\n",
            "median_house_value    111400.0000\n",
            "Name: 16995, dtype: float64\n"
          ],
          "name": "stdout"
        },
        {
          "output_type": "display_data",
          "data": {
            "image/png": "[encoded data removed]",
            "text/plain": [
              "<Figure size 432x288 with 2 Axes>"
            ]
          },
          "metadata": {
            "tags": [],
            "needs_background": "light"
          }
        },
        {
          "output_type": "stream",
          "text": [
            "longitude              -114.47\n",
            "latitude                 34.40\n",
            "housing_median_age       19.00\n",
            "total_rooms            7650.00\n",
            "total_bedrooms         1901.00\n",
            "population             1129.00\n",
            "households              463.00\n",
            "median_income             1.82\n",
            "median_house_value    80100.00\n",
            "Name: 1, dtype: float64\n",
            "\n",
            "longitude              -114.570\n",
            "latitude                 33.570\n",
            "housing_median_age       20.000\n",
            "total_rooms            1454.000\n",
            "total_bedrooms          326.000\n",
            "population              624.000\n",
            "households              262.000\n",
            "median_income             1.925\n",
            "median_house_value    65500.000\n",
            "Name: 4, dtype: float64\n",
            "\n",
            "longitude               -124.2600\n",
            "latitude                  40.5800\n",
            "housing_median_age        52.0000\n",
            "total_rooms             2217.0000\n",
            "total_bedrooms           394.0000\n",
            "population               907.0000\n",
            "households               369.0000\n",
            "median_income              2.3571\n",
            "median_house_value    111400.0000\n",
            "Name: 16995, dtype: float64\n"
          ],
          "name": "stdout"
        }
      ]
    }
  ]
}