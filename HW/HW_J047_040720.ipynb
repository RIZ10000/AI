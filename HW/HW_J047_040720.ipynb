{
  "nbformat": 4,
  "nbformat_minor": 0,
  "metadata": {
    "colab": {
      "name": "Untitled4.ipynb",
      "provenance": [],
      "authorship_tag": "ABX9TyNIt4V2WB1Uju537khtPEoC",
      "include_colab_link": true
    },
    "kernelspec": {
      "name": "python3",
      "display_name": "Python 3"
    }
  },
  "cells": [
    {
      "cell_type": "markdown",
      "metadata": {
        "id": "view-in-github",
        "colab_type": "text"
      },
      "source": [
        "<a href=\"https://colab.research.google.com/github/RIZ10000/AI/blob/master/HW/HW_J047_040720.ipynb\" target=\"_parent\"><img src=\"https://colab.research.google.com/assets/colab-badge.svg\" alt=\"Open In Colab\"/></a>"
      ]
    },
    {
      "cell_type": "code",
      "metadata": {
        "id": "1qhJseVsji3H",
        "colab_type": "code",
        "colab": {}
      },
      "source": [
        "#Q.1\n",
        "#!/bin/python3\n",
        "\n",
        "import math\n",
        "import os\n",
        "import random\n",
        "import re\n",
        "import sys\n",
        "\n",
        "def judgement(n) :\n",
        "    if n%2 == 0 :\n",
        "        if 2 <= n & n <= 5 :\n",
        "            print(\"Not Weird\")\n",
        "        elif 6 <= n & n <= 20 :\n",
        "            print(\"Weird\")\n",
        "        else :\n",
        "            print(\"Not Weird\")    \n",
        "    else :\n",
        "        print(\"Weird\")\n",
        "\n",
        "\n",
        "\n",
        "\n",
        "if __name__ == '__main__':\n",
        "    n = int(input().strip())\n",
        "    judgement(n) \n",
        "\n",
        "\n",
        "#Q.2\n",
        "if __name__ == '__main__':\n",
        "    a = int(input())\n",
        "    b = int(input())\n",
        "    print(a+b,a-b,a*b,sep='\\n' )\n",
        "\n",
        "\n",
        "#Q.3\n",
        "if __name__ == '__main__':\n",
        "    a = int(input())\n",
        "    b = int(input())\n",
        "    print(a//b,a/b,sep='\\n')\n",
        "\n",
        "\n",
        "#Q.4\n",
        "if __name__ == '__main__':\n",
        "    n = int(input())\n",
        "    i = 0\n",
        "    while(i != n) :\n",
        "        print(i*i)\n",
        "        i+=1\n",
        "\n",
        "\n",
        "#Q.5\n",
        "if __name__ == '__main__':\n",
        "    n = int(input())\n",
        "    for i in range(1,n+1) :\n",
        "        print(i,sep='',end='')\n",
        "\n",
        "\n",
        "#Q.6\n",
        "if __name__ == '__main__':\n",
        "    x = int(input())\n",
        "    y = int(input())\n",
        "    z = int(input())\n",
        "    n = int(input())\n",
        "    print([ [i,j,k] for i in range(x+1) for j in range(y+1) for k in range(z+1) if ((i+j+k) != n )  ])        \n",
        "\n"
      ],
      "execution_count": null,
      "outputs": []
    }
  ]
}