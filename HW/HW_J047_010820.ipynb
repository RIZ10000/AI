{
  "nbformat": 4,
  "nbformat_minor": 0,
  "metadata": {
    "colab": {
      "name": "HW_J047_010820.ipynb",
      "provenance": [],
      "authorship_tag": "ABX9TyMEwOGbHawBApILE1+ibiTb",
      "include_colab_link": true
    },
    "kernelspec": {
      "name": "python3",
      "display_name": "Python 3"
    }
  },
  "cells": [
    {
      "cell_type": "markdown",
      "metadata": {
        "id": "view-in-github",
        "colab_type": "text"
      },
      "source": [
        "<a href=\"https://colab.research.google.com/github/RIZ10000/AI/blob/master/HW/HW_J047_010820.ipynb\" target=\"_parent\"><img src=\"https://colab.research.google.com/assets/colab-badge.svg\" alt=\"Open In Colab\"/></a>"
      ]
    },
    {
      "cell_type": "markdown",
      "metadata": {
        "id": "Od0kmhToEVJa",
        "colab_type": "text"
      },
      "source": [
        "### **Sherlock and Cost**"
      ]
    },
    {
      "cell_type": "code",
      "metadata": {
        "id": "C-5Z97uCDZk7",
        "colab_type": "code",
        "colab": {}
      },
      "source": [
        "#!/bin/python3\n",
        "\n",
        "import math\n",
        "import os\n",
        "import random\n",
        "import re\n",
        "import sys\n",
        "\n",
        "# Complete the cost function below.\n",
        "def cost(B):\n",
        "    n = len(B)\n",
        "    a , b = 0 , 0\n",
        "    for i in range(1,n):\n",
        "       #these differences put effective changes to cost\n",
        "        #low_low=1-1=0 \n",
        "        high1_low = abs(B[i-1]-1)\n",
        "        low_high2 = abs(1-B[i])\n",
        "        high2_high1 = abs(B[i]-B[i-1])\n",
        "                  #+low_low        \n",
        "        a2 = max(a,b+high1_low)\n",
        "        b2 = max(b+high2_high1,a+low_high2)\n",
        "\n",
        "        a , b = a2 , b2\n",
        "    return max( a , b )\n",
        "if __name__ == '__main__':\n",
        "    fptr = open(os.environ['OUTPUT_PATH'], 'w')\n",
        "\n",
        "    t = int(input())\n",
        "\n",
        "    for t_itr in range(t):\n",
        "        n = int(input())\n",
        "\n",
        "        B = list(map(int, input().rstrip().split()))\n",
        "\n",
        "        result = cost(B)\n",
        "\n",
        "        fptr.write(str(result) + '\\n')\n",
        "\n",
        "    fptr.close("
      ],
      "execution_count": null,
      "outputs": []
    },
    {
      "cell_type": "markdown",
      "metadata": {
        "id": "E2qciBXSFCiS",
        "colab_type": "text"
      },
      "source": [
        "### **The Coin Change**"
      ]
    },
    {
      "cell_type": "code",
      "metadata": {
        "id": "q8W71MsHFIKP",
        "colab_type": "code",
        "colab": {}
      },
      "source": [
        "#!/bin/python3\n",
        "\n",
        "import math\n",
        "import os\n",
        "import random\n",
        "import re\n",
        "import sys\n",
        "\n",
        "#\n",
        "# Complete the 'getWays' function below.\n",
        "#\n",
        "# The function is expected to return a LONG_INTEGER.\n",
        "# The function accepts following parameters:\n",
        "#  1. INTEGER n\n",
        "#  2. LONG_INTEGER_ARRAY c\n",
        "#\n",
        "\n",
        "def getWays(n, c):\n",
        "    m = len(c)\n",
        "    coins_used = [1]+[0]*n #initial state\n",
        "    for i in range(m): \n",
        "      for j in range(c[i], n+1):#updating only upper trig half\n",
        "         coins_used[j]+=coins_used[j-c[i]]#exc,incl,and add\n",
        "          \n",
        "    print(coins_used)#final state\n",
        "    return coins_used[-1]#needed number of ways \n",
        "\n",
        "\n",
        "\n",
        "if __name__ == '__main__':\n",
        "    fptr = open(os.environ['OUTPUT_PATH'], 'w')\n",
        "\n",
        "    first_multiple_input = input().rstrip().split()\n",
        "\n",
        "    n = int(first_multiple_input[0])\n",
        "\n",
        "    m = int(first_multiple_input[1])\n",
        "\n",
        "    c = list(map(int, input().rstrip().split()))\n",
        "\n",
        "    # Print the number of ways of making change for 'n' units using coins having the values given by 'c'\n",
        "\n",
        "    ways = getWays(n, c)\n",
        "\n",
        "    fptr.write(str(ways) + '\\n')\n",
        "\n",
        "    fptr.close()"
      ],
      "execution_count": null,
      "outputs": []
    },
    {
      "cell_type": "markdown",
      "metadata": {
        "id": "8CUOGJYIFhuM",
        "colab_type": "text"
      },
      "source": [
        "### **Validating Postal Code**"
      ]
    },
    {
      "cell_type": "code",
      "metadata": {
        "id": "HbEWyfbXFgcn",
        "colab_type": "code",
        "colab": {}
      },
      "source": [
        "regex_integer_in_range = r\"^[1-9]\\d{5}$\"\t# Do not delete 'r'.   #means starting with digits 1-9 and then 5 digits\n",
        "regex_alternating_repetitive_digit_pair = r\"(\\d)(?=.\\1)\"\t# Do not delete 'r'.# locks on a digit and checks if it is repeated after 1 digit \n",
        "\n",
        "import re\n",
        "P = input()\n",
        "\n",
        "print (bool(re.match(regex_integer_in_range, P)) \n",
        "and len(re.findall(regex_alternating_repetitive_digit_pair, P)) < 2)\n"
      ],
      "execution_count": null,
      "outputs": []
    }
  ]
}