{
  "nbformat": 4,
  "nbformat_minor": 0,
  "metadata": {
    "colab": {
      "name": "Untitled7.ipynb",
      "provenance": [],
      "authorship_tag": "ABX9TyOSh5WetPm2LV9awD9tFxWR",
      "include_colab_link": true
    },
    "kernelspec": {
      "name": "python3",
      "display_name": "Python 3"
    }
  },
  "cells": [
    {
      "cell_type": "markdown",
      "metadata": {
        "id": "view-in-github",
        "colab_type": "text"
      },
      "source": [
        "<a href=\"https://colab.research.google.com/github/RIZ10000/AI/blob/master/CW/CW_J047_110720.ipynb\" target=\"_parent\"><img src=\"https://colab.research.google.com/assets/colab-badge.svg\" alt=\"Open In Colab\"/></a>"
      ]
    },
    {
      "cell_type": "code",
      "metadata": {
        "id": "j_vBeZy4zXZw",
        "colab_type": "code",
        "colab": {}
      },
      "source": [
        "b=6\n",
        "a=5\n",
        "a='five'"
      ],
      "execution_count": 6,
      "outputs": []
    },
    {
      "cell_type": "code",
      "metadata": {
        "id": "KX773HQH1Lgp",
        "colab_type": "code",
        "colab": {}
      },
      "source": [
        " a=4\n",
        "c=6\n"
      ],
      "execution_count": 7,
      "outputs": []
    },
    {
      "cell_type": "code",
      "metadata": {
        "id": "Jf7d23FX2FAh",
        "colab_type": "code",
        "colab": {
          "base_uri": "https://localhost:8080/",
          "height": 34
        },
        "outputId": "ad549a49-0d5a-4c99-b5be-caf27571b3eb"
      },
      "source": [
        "if b>0 : \n",
        "    print('a')"
      ],
      "execution_count": 8,
      "outputs": [
        {
          "output_type": "stream",
          "text": [
            "a\n"
          ],
          "name": "stdout"
        }
      ]
    },
    {
      "cell_type": "code",
      "metadata": {
        "id": "UWW92zTi3HZT",
        "colab_type": "code",
        "colab": {}
      },
      "source": [
        "def printer():\n",
        "    a=5\n",
        "    b=6\n",
        "    print(a+b)\n",
        "def sum(a,b):\n",
        "    return a+b "
      ],
      "execution_count": 9,
      "outputs": []
    },
    {
      "cell_type": "code",
      "metadata": {
        "id": "rVhDBQQh4wKs",
        "colab_type": "code",
        "colab": {
          "base_uri": "https://localhost:8080/",
          "height": 34
        },
        "outputId": "3fc9982c-023f-4286-aabb-949603f9530b"
      },
      "source": [
        "sum(a,c)"
      ],
      "execution_count": 10,
      "outputs": [
        {
          "output_type": "execute_result",
          "data": {
            "text/plain": [
              "10"
            ]
          },
          "metadata": {
            "tags": []
          },
          "execution_count": 10
        }
      ]
    },
    {
      "cell_type": "code",
      "metadata": {
        "id": "yDZ46zwd4jdD",
        "colab_type": "code",
        "colab": {
          "base_uri": "https://localhost:8080/",
          "height": 34
        },
        "outputId": "b2880fea-2e33-428a-80e7-b791d82c9dbe"
      },
      "source": [
        "printer()\n"
      ],
      "execution_count": 11,
      "outputs": [
        {
          "output_type": "stream",
          "text": [
            "11\n"
          ],
          "name": "stdout"
        }
      ]
    },
    {
      "cell_type": "code",
      "metadata": {
        "id": "8at2buyE8uBr",
        "colab_type": "code",
        "colab": {}
      },
      "source": [
        "a=c"
      ],
      "execution_count": 12,
      "outputs": []
    },
    {
      "cell_type": "code",
      "metadata": {
        "id": "Yk3HCJdq8zRT",
        "colab_type": "code",
        "colab": {
          "base_uri": "https://localhost:8080/",
          "height": 34
        },
        "outputId": "1dbf523c-5a8c-4ea4-e651-3ea4c0432688"
      },
      "source": [
        "a"
      ],
      "execution_count": 13,
      "outputs": [
        {
          "output_type": "execute_result",
          "data": {
            "text/plain": [
              "6"
            ]
          },
          "metadata": {
            "tags": []
          },
          "execution_count": 13
        }
      ]
    },
    {
      "cell_type": "code",
      "metadata": {
        "id": "u-V0wawR81EX",
        "colab_type": "code",
        "colab": {
          "base_uri": "https://localhost:8080/",
          "height": 34
        },
        "outputId": "f2011eed-8f7b-4436-93bd-d4e64c301513"
      },
      "source": [
        "if a==c:\n",
        "    print(\"True\")"
      ],
      "execution_count": 15,
      "outputs": [
        {
          "output_type": "stream",
          "text": [
            "True\n"
          ],
          "name": "stdout"
        }
      ]
    },
    {
      "cell_type": "code",
      "metadata": {
        "id": "OVrGVFUY-ENe",
        "colab_type": "code",
        "colab": {
          "base_uri": "https://localhost:8080/",
          "height": 34
        },
        "outputId": "2a08f8f2-708f-4d87-e889-b5e9f421d00a"
      },
      "source": [
        "int('1B1212',12)"
      ],
      "execution_count": 16,
      "outputs": [
        {
          "output_type": "execute_result",
          "data": {
            "text/plain": [
              "478958"
            ]
          },
          "metadata": {
            "tags": []
          },
          "execution_count": 16
        }
      ]
    },
    {
      "cell_type": "code",
      "metadata": {
        "id": "tWYwX-K0BbSE",
        "colab_type": "code",
        "colab": {
          "base_uri": "https://localhost:8080/",
          "height": 34
        },
        "outputId": "1f19d451-1009-41a9-dfa9-343aa687cff2"
      },
      "source": [
        "float(int('111',3))"
      ],
      "execution_count": 17,
      "outputs": [
        {
          "output_type": "execute_result",
          "data": {
            "text/plain": [
              "13.0"
            ]
          },
          "metadata": {
            "tags": []
          },
          "execution_count": 17
        }
      ]
    },
    {
      "cell_type": "code",
      "metadata": {
        "id": "cZ9IV2cx_Ifw",
        "colab_type": "code",
        "colab": {
          "base_uri": "https://localhost:8080/",
          "height": 35
        },
        "outputId": "6c75b8e2-1035-4551-85cb-2c4a915a75c0"
      },
      "source": [
        "str(float(int('111',3)))"
      ],
      "execution_count": 18,
      "outputs": [
        {
          "output_type": "execute_result",
          "data": {
            "application/vnd.google.colaboratory.intrinsic": {
              "type": "string"
            },
            "text/plain": [
              "'13.0'"
            ]
          },
          "metadata": {
            "tags": []
          },
          "execution_count": 18
        }
      ]
    },
    {
      "cell_type": "code",
      "metadata": {
        "id": "wRmtxxCWBet8",
        "colab_type": "code",
        "colab": {}
      },
      "source": [
        "a='a'"
      ],
      "execution_count": 19,
      "outputs": []
    },
    {
      "cell_type": "code",
      "metadata": {
        "id": "CTz3T4eWBpyN",
        "colab_type": "code",
        "colab": {
          "base_uri": "https://localhost:8080/",
          "height": 34
        },
        "outputId": "009a0981-6ea7-4a71-e100-dc12ef6c3167"
      },
      "source": [
        "type(a)"
      ],
      "execution_count": 21,
      "outputs": [
        {
          "output_type": "execute_result",
          "data": {
            "text/plain": [
              "str"
            ]
          },
          "metadata": {
            "tags": []
          },
          "execution_count": 21
        }
      ]
    },
    {
      "cell_type": "code",
      "metadata": {
        "id": "PlcKTR5EB3Rq",
        "colab_type": "code",
        "colab": {}
      },
      "source": [
        "#def sum() :\n",
        "#    a= 'fifgue jdolfuh nfiroi\n",
        " #   fdforuh ifidjff dfkoifh '"
      ],
      "execution_count": 32,
      "outputs": []
    },
    {
      "cell_type": "code",
      "metadata": {
        "id": "rpbA3gOiDLMZ",
        "colab_type": "code",
        "colab": {}
      },
      "source": [
        "help(traceback)"
      ],
      "execution_count": null,
      "outputs": []
    },
    {
      "cell_type": "code",
      "metadata": {
        "id": "AccqcizZGXu1",
        "colab_type": "code",
        "colab": {}
      },
      "source": [
        "\n",
        "a_=4 # for using reserve keywords\n",
        "__a__=5\n",
        "a=6\n",
        "_a=9 # variable is intended for internal use (private variables)\n",
        "__a=91 #\n"
      ],
      "execution_count": 23,
      "outputs": []
    },
    {
      "cell_type": "code",
      "metadata": {
        "id": "kZp3kbahIRFC",
        "colab_type": "code",
        "colab": {}
      },
      "source": [
        "def make_a(a,class_):\n",
        "    pass"
      ],
      "execution_count": 24,
      "outputs": []
    },
    {
      "cell_type": "code",
      "metadata": {
        "id": "AtLk1-cyHakt",
        "colab_type": "code",
        "colab": {}
      },
      "source": [
        "#public variable vs private\n",
        "\n",
        "class human:\n",
        "    \"\"\" Members of a class \"\"\"\n",
        "    # attribute - variables - compulsory\n",
        "    # method/behaviour- function - compulsory\n",
        "    pass\n",
        "\n",
        "\n"
      ],
      "execution_count": 25,
      "outputs": []
    },
    {
      "cell_type": "code",
      "metadata": {
        "id": "72ld_ANoNL3n",
        "colab_type": "code",
        "colab": {
          "base_uri": "https://localhost:8080/",
          "height": 34
        },
        "outputId": "0b05dbe7-8372-4a50-8207-dd1bedba5ee2"
      },
      "source": [
        "class Student:\n",
        "    a =6\n",
        "    def __init__(self,name):\n",
        "        #Instatiates the object of a class ~ constructor\n",
        "        #print(name) \n",
        "        self.__name = name \n",
        "        #self.__a=6\n",
        "  \n",
        "    def displayName(self): \n",
        "        print(self.__name)\n",
        "        #print(self.__a) \n",
        "  \n",
        "#Class vs Object\n",
        "s1 = Student(\"Santhosh\") \n",
        "s1.displayName() \n",
        "  \n",
        "# Raises an error \n",
        "#print(s1.__name) \n"
      ],
      "execution_count": 26,
      "outputs": [
        {
          "output_type": "stream",
          "text": [
            "Santhosh\n"
          ],
          "name": "stdout"
        }
      ]
    },
    {
      "cell_type": "code",
      "metadata": {
        "id": "LvvVPx1CaEfw",
        "colab_type": "code",
        "colab": {}
      },
      "source": [
        "import pandas as pd\n",
        "\n"
      ],
      "execution_count": 28,
      "outputs": []
    },
    {
      "cell_type": "code",
      "metadata": {
        "id": "bmhWTRLhaVBp",
        "colab_type": "code",
        "colab": {}
      },
      "source": [
        "lis=['a','b','c']\n",
        "a=pd.DataFrame(columns=lis)"
      ],
      "execution_count": 29,
      "outputs": []
    },
    {
      "cell_type": "code",
      "metadata": {
        "id": "G07G6ykjarmZ",
        "colab_type": "code",
        "colab": {}
      },
      "source": [
        "a=pd.read_csv('https://people.sc.fsu.edu/~jburkardt/data/csv/addresses.csv')"
      ],
      "execution_count": 30,
      "outputs": []
    },
    {
      "cell_type": "code",
      "metadata": {
        "id": "PPEkRMpcAC3b",
        "colab_type": "code",
        "colab": {
          "base_uri": "https://localhost:8080/",
          "height": 153
        },
        "outputId": "38c6fffe-1429-4eb2-a32c-1cd76b03e7db"
      },
      "source": [
        "print(a)"
      ],
      "execution_count": 33,
      "outputs": [
        {
          "output_type": "stream",
          "text": [
            "                    John       Doe  ...   NJ  08075\n",
            "0                   Jack  McGinnis  ...   PA   9119\n",
            "1          John \"Da Man\"    Repici  ...   NJ   8075\n",
            "2                Stephen     Tyler  ...   SD  91234\n",
            "3                    NaN  Blankman  ...   SD    298\n",
            "4  Joan \"the bone\", Anne       Jet  ...   CO    123\n",
            "\n",
            "[5 rows x 6 columns]\n"
          ],
          "name": "stdout"
        }
      ]
    }
  ]
}