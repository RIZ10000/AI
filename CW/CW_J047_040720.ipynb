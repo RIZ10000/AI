{
  "nbformat": 4,
  "nbformat_minor": 0,
  "metadata": {
    "colab": {
      "name": "Untitled3.ipynb",
      "provenance": [],
      "authorship_tag": "ABX9TyPfq3b/HrHHwO/gzdmLMDlH",
      "include_colab_link": true
    },
    "kernelspec": {
      "name": "python3",
      "display_name": "Python 3"
    }
  },
  "cells": [
    {
      "cell_type": "markdown",
      "metadata": {
        "id": "view-in-github",
        "colab_type": "text"
      },
      "source": [
        "<a href=\"https://colab.research.google.com/github/RIZ10000/AI/blob/master/CW/CW_J047_040720.ipynb\" target=\"_parent\"><img src=\"https://colab.research.google.com/assets/colab-badge.svg\" alt=\"Open In Colab\"/></a>"
      ]
    },
    {
      "cell_type": "code",
      "metadata": {
        "id": "XmLMo4z-4yQe",
        "colab_type": "code",
        "colab": {
          "base_uri": "https://localhost:8080/",
          "height": 51
        },
        "outputId": "418fb7e6-3fe4-4fbe-85ee-7bc5514b2160"
      },
      "source": [
        "#list\n",
        "a = [1,5,\"human\"]\n",
        "d = [[2,5],[\"hey\",9]]\n",
        "#tuple\n",
        "b = (1,5,\"human\")\n",
        "\n",
        "#dictionary\n",
        "c = {'list':[1,\"hey\"],\n",
        "     'tuple':(18,\"joker\"),\n",
        "     'set':{8,9,'hay'}}\n",
        "\n",
        "#sets\n",
        "#unordered#mutabble#doesn'tsupportindexing#noduplicate/unique\n",
        "e = {98,-2,13,55,45,68,-8,8,\"hey\",5,-1,6,\"ris\",-8 ,69,80,78,42}\n",
        "print(e)\n",
        "e.pop()#pops arbitrary number\n",
        "e.pop()\n",
        "e.pop()\n",
        "e.pop()\n",
        "print(e)"
      ],
      "execution_count": null,
      "outputs": [
        {
          "output_type": "stream",
          "text": [
            "{98, 68, 5, 6, 'ris', 8, 69, 42, 45, 13, 78, 80, -1, 55, -8, 'hey', -2}\n",
            "{'ris', 8, 69, 42, 45, 13, 78, 80, -1, 55, -8, 'hey', -2}\n"
          ],
          "name": "stdout"
        }
      ]
    }
  ]
}